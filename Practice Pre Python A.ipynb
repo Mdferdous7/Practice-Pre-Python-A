{
  "cells": [
    {
      "cell_type": "markdown",
      "source": [
        "# Practice Pre Python A_Miah"
      ],
      "metadata": {
        "id": "xTgWfd-06rWY"
      },
      "id": "xTgWfd-06rWY"
    },
    {
      "cell_type": "code",
      "execution_count": null,
      "id": "63c37d88-e1b6-4d6c-8fea-89213867b2a7",
      "metadata": {
        "id": "63c37d88-e1b6-4d6c-8fea-89213867b2a7"
      },
      "outputs": [],
      "source": []
    },
    {
      "cell_type": "code",
      "execution_count": null,
      "id": "aecc0fad-7f28-4fe3-8f54-0057044fce9f",
      "metadata": {
        "id": "aecc0fad-7f28-4fe3-8f54-0057044fce9f"
      },
      "outputs": [],
      "source": []
    },
    {
      "cell_type": "code",
      "execution_count": null,
      "id": "659c9e2f-7e8d-4386-975f-8b12b508d898",
      "metadata": {
        "id": "659c9e2f-7e8d-4386-975f-8b12b508d898"
      },
      "outputs": [],
      "source": [
        "# Problem 1"
      ]
    },
    {
      "cell_type": "code",
      "execution_count": null,
      "id": "ca167e71-5e31-440b-9965-04863bcb4763",
      "metadata": {
        "id": "ca167e71-5e31-440b-9965-04863bcb4763"
      },
      "outputs": [],
      "source": [
        "numbers_one = range(2,35,2)"
      ]
    },
    {
      "cell_type": "code",
      "execution_count": null,
      "id": "0bdad2b6-a51e-4218-ab33-15ebc8a46b01",
      "metadata": {
        "id": "0bdad2b6-a51e-4218-ab33-15ebc8a46b01",
        "outputId": "3436f79f-229a-4c72-b708-0a8c76163f5d"
      },
      "outputs": [
        {
          "name": "stdout",
          "output_type": "stream",
          "text": [
            "range(2, 35, 2)\n"
          ]
        }
      ],
      "source": [
        "print(numbers_one)"
      ]
    },
    {
      "cell_type": "code",
      "execution_count": null,
      "id": "f4582a8c-9899-403d-9b44-f3e0469290d8",
      "metadata": {
        "id": "f4582a8c-9899-403d-9b44-f3e0469290d8",
        "outputId": "ca432a3b-0ad5-469c-86fc-09de1282ea8d"
      },
      "outputs": [
        {
          "name": "stdout",
          "output_type": "stream",
          "text": [
            "[2, 4, 6, 8, 10, 12, 14, 16, 18, 20, 22, 24, 26, 28, 30, 32, 34]\n"
          ]
        }
      ],
      "source": [
        "print(list(numbers_one))"
      ]
    },
    {
      "cell_type": "code",
      "execution_count": null,
      "id": "d4417d57-b306-4976-bca0-3a6e1b6b155c",
      "metadata": {
        "id": "d4417d57-b306-4976-bca0-3a6e1b6b155c"
      },
      "outputs": [],
      "source": []
    },
    {
      "cell_type": "code",
      "execution_count": null,
      "id": "4f90e85c-a325-43ed-b064-cf61cce2309e",
      "metadata": {
        "id": "4f90e85c-a325-43ed-b064-cf61cce2309e"
      },
      "outputs": [],
      "source": []
    },
    {
      "cell_type": "code",
      "execution_count": null,
      "id": "ec51d0c1-7cde-460c-b280-1b9c32168f69",
      "metadata": {
        "id": "ec51d0c1-7cde-460c-b280-1b9c32168f69"
      },
      "outputs": [],
      "source": [
        "# Problem 2"
      ]
    },
    {
      "cell_type": "code",
      "execution_count": null,
      "id": "765096a9-ee1e-4470-be39-706b4cf960ca",
      "metadata": {
        "id": "765096a9-ee1e-4470-be39-706b4cf960ca"
      },
      "outputs": [],
      "source": [
        "List = [6,9,8,27,12,1,0]"
      ]
    },
    {
      "cell_type": "code",
      "execution_count": null,
      "id": "7c07eb89-cd56-459d-88e5-342bf79d96ce",
      "metadata": {
        "id": "7c07eb89-cd56-459d-88e5-342bf79d96ce"
      },
      "outputs": [],
      "source": [
        "maximum_number = max(List)"
      ]
    },
    {
      "cell_type": "code",
      "execution_count": null,
      "id": "b4d95f35-1a31-4ee8-90f9-28ba74e19c12",
      "metadata": {
        "id": "b4d95f35-1a31-4ee8-90f9-28ba74e19c12",
        "outputId": "acaa6466-1b04-495d-9a22-e544050d9fa7"
      },
      "outputs": [
        {
          "name": "stdout",
          "output_type": "stream",
          "text": [
            "27\n"
          ]
        }
      ],
      "source": [
        "print (maximum_number)"
      ]
    },
    {
      "cell_type": "code",
      "execution_count": null,
      "id": "1beba18b-8375-473a-9dc0-f856a8297902",
      "metadata": {
        "id": "1beba18b-8375-473a-9dc0-f856a8297902"
      },
      "outputs": [],
      "source": []
    },
    {
      "cell_type": "code",
      "execution_count": null,
      "id": "c92c7435-652b-4302-8826-98a2ca32d756",
      "metadata": {
        "id": "c92c7435-652b-4302-8826-98a2ca32d756"
      },
      "outputs": [],
      "source": []
    },
    {
      "cell_type": "code",
      "execution_count": null,
      "id": "ddba6746-0b9f-4f1a-bef5-e223fa543581",
      "metadata": {
        "id": "ddba6746-0b9f-4f1a-bef5-e223fa543581"
      },
      "outputs": [],
      "source": [
        "# Problem 3"
      ]
    },
    {
      "cell_type": "code",
      "execution_count": null,
      "id": "41e88f81-3cd3-43af-a12c-390da081b3be",
      "metadata": {
        "id": "41e88f81-3cd3-43af-a12c-390da081b3be",
        "outputId": "d5a9517e-91c5-4a4a-979b-fdde470ef22d"
      },
      "outputs": [
        {
          "name": "stdout",
          "output_type": "stream",
          "text": [
            "-3\n",
            "-4\n",
            "-5\n",
            "-6\n",
            "-7\n",
            "-8\n",
            "-9\n",
            "-10\n"
          ]
        }
      ],
      "source": [
        "for i in range(-3,-11,-1):\n",
        "    print(i)"
      ]
    },
    {
      "cell_type": "code",
      "execution_count": null,
      "id": "80a4bf99-26e1-4e71-9c2f-32fe09e5f4d8",
      "metadata": {
        "id": "80a4bf99-26e1-4e71-9c2f-32fe09e5f4d8"
      },
      "outputs": [],
      "source": []
    },
    {
      "cell_type": "code",
      "execution_count": null,
      "id": "83794f47-750d-491e-a5f9-064a3163749d",
      "metadata": {
        "id": "83794f47-750d-491e-a5f9-064a3163749d"
      },
      "outputs": [],
      "source": []
    },
    {
      "cell_type": "code",
      "execution_count": null,
      "id": "9225e5f3-bc51-4477-b14e-a13d36173a8d",
      "metadata": {
        "id": "9225e5f3-bc51-4477-b14e-a13d36173a8d"
      },
      "outputs": [],
      "source": [
        "# Problem 4"
      ]
    },
    {
      "cell_type": "code",
      "execution_count": null,
      "id": "39b93e49-9d5f-449c-b771-b6104411d9c1",
      "metadata": {
        "id": "39b93e49-9d5f-449c-b771-b6104411d9c1",
        "outputId": "99fe6dc3-a611-4bf3-fc8d-795280457de2"
      },
      "outputs": [
        {
          "name": "stdout",
          "output_type": "stream",
          "text": [
            "The sum of the first 10 numbers is: 55\n"
          ]
        }
      ],
      "source": [
        "num = 10\n",
        "sum = 0\n",
        "i = 1\n",
        "\n",
        "while i <= num:\n",
        "    sum += i\n",
        "    i += 1\n",
        "print(\"The sum of the first 10 numbers is:\", sum)"
      ]
    },
    {
      "cell_type": "code",
      "execution_count": null,
      "id": "a397f227-9308-491b-9eb3-55ff6ca40c0a",
      "metadata": {
        "id": "a397f227-9308-491b-9eb3-55ff6ca40c0a"
      },
      "outputs": [],
      "source": []
    },
    {
      "cell_type": "code",
      "execution_count": null,
      "id": "5d7b4e79-1476-49a7-87c2-93469cb12460",
      "metadata": {
        "id": "5d7b4e79-1476-49a7-87c2-93469cb12460"
      },
      "outputs": [],
      "source": []
    },
    {
      "cell_type": "code",
      "execution_count": null,
      "id": "0a34f171-03dd-4adf-b64f-cfa97469b3ac",
      "metadata": {
        "id": "0a34f171-03dd-4adf-b64f-cfa97469b3ac"
      },
      "outputs": [],
      "source": [
        "# Problem 5"
      ]
    },
    {
      "cell_type": "code",
      "execution_count": null,
      "id": "c3e3d057-388d-46ac-a295-13d44017fd84",
      "metadata": {
        "id": "c3e3d057-388d-46ac-a295-13d44017fd84",
        "outputId": "814dc94a-d667-46b6-b316-cd2d7d8717ad"
      },
      "outputs": [
        {
          "name": "stdin",
          "output_type": "stream",
          "text": [
            "Enter password:  Python2024\n"
          ]
        },
        {
          "name": "stdout",
          "output_type": "stream",
          "text": [
            "Incorrect Password Python2024\n"
          ]
        }
      ],
      "source": [
        "Python2024 = input('Enter password: ')\n",
        "print('Incorrect Password ' + Python2024)"
      ]
    },
    {
      "cell_type": "code",
      "execution_count": null,
      "id": "bed22f16-dffc-4f95-8b81-27d49e4d7995",
      "metadata": {
        "id": "bed22f16-dffc-4f95-8b81-27d49e4d7995"
      },
      "outputs": [],
      "source": []
    },
    {
      "cell_type": "code",
      "execution_count": null,
      "id": "274bdafd-6fd1-4049-9f91-19b8e7736a35",
      "metadata": {
        "id": "274bdafd-6fd1-4049-9f91-19b8e7736a35",
        "outputId": "77bd46f9-4bd2-4eb0-b21e-858c5017dead"
      },
      "outputs": [
        {
          "name": "stdin",
          "output_type": "stream",
          "text": [
            "Enter password:  Python2024course\n"
          ]
        },
        {
          "name": "stdout",
          "output_type": "stream",
          "text": [
            "Correct Password Python2024course\n"
          ]
        }
      ],
      "source": [
        "Python2024course = input('Enter password: ')\n",
        "print('Correct Password ' + Python2024course)"
      ]
    },
    {
      "cell_type": "code",
      "execution_count": null,
      "id": "6beb0c25-f359-46ab-83d7-ec1883221ee6",
      "metadata": {
        "id": "6beb0c25-f359-46ab-83d7-ec1883221ee6"
      },
      "outputs": [],
      "source": []
    },
    {
      "cell_type": "code",
      "execution_count": null,
      "id": "3f44900b-f135-4253-a573-fd833cda2366",
      "metadata": {
        "id": "3f44900b-f135-4253-a573-fd833cda2366"
      },
      "outputs": [],
      "source": []
    },
    {
      "cell_type": "code",
      "execution_count": null,
      "id": "59879720-72a4-4885-94ee-6e52aeedf67b",
      "metadata": {
        "id": "59879720-72a4-4885-94ee-6e52aeedf67b"
      },
      "outputs": [],
      "source": [
        "# Problem 6"
      ]
    },
    {
      "cell_type": "code",
      "execution_count": null,
      "id": "90c1f604-0927-4af9-a14a-09844b673213",
      "metadata": {
        "id": "90c1f604-0927-4af9-a14a-09844b673213"
      },
      "outputs": [],
      "source": [
        "emily_dict = {\"name\": \"Emily\", \"age\": 25, \"salary\": 8000, \"city\": \"Paris\"}"
      ]
    },
    {
      "cell_type": "code",
      "execution_count": null,
      "id": "b163528d-22ae-48ce-858b-bc31683f9ab1",
      "metadata": {
        "id": "b163528d-22ae-48ce-858b-bc31683f9ab1",
        "outputId": "98c97195-6c5a-4b07-834c-bb7c67991d7b"
      },
      "outputs": [
        {
          "data": {
            "text/plain": [
              "{'name': 'Emily', 'age': 25, 'salary': 8000, 'city': 'Paris'}"
            ]
          },
          "execution_count": 15,
          "metadata": {},
          "output_type": "execute_result"
        }
      ],
      "source": [
        "emily_dict"
      ]
    },
    {
      "cell_type": "code",
      "execution_count": null,
      "id": "d7b926b6-7a5f-4c30-8d1b-b638d07c91b4",
      "metadata": {
        "id": "d7b926b6-7a5f-4c30-8d1b-b638d07c91b4"
      },
      "outputs": [],
      "source": [
        "del emily_dict[\"name\"], emily_dict[\"salary\"]"
      ]
    },
    {
      "cell_type": "code",
      "execution_count": null,
      "id": "3a49eb15-289a-448d-a2fe-9986622d3989",
      "metadata": {
        "id": "3a49eb15-289a-448d-a2fe-9986622d3989",
        "outputId": "253ad781-26d9-4a5f-cb61-c8ba45245096"
      },
      "outputs": [
        {
          "name": "stdout",
          "output_type": "stream",
          "text": [
            "{'age': 25, 'city': 'Paris'}\n"
          ]
        }
      ],
      "source": [
        "print(emily_dict)"
      ]
    },
    {
      "cell_type": "code",
      "execution_count": null,
      "id": "64fb95c2-7626-448f-86d0-21e294198804",
      "metadata": {
        "id": "64fb95c2-7626-448f-86d0-21e294198804"
      },
      "outputs": [],
      "source": []
    },
    {
      "cell_type": "code",
      "execution_count": null,
      "id": "e891e556-933c-44bf-846e-414d2d227059",
      "metadata": {
        "id": "e891e556-933c-44bf-846e-414d2d227059"
      },
      "outputs": [],
      "source": []
    },
    {
      "cell_type": "code",
      "execution_count": null,
      "id": "45b6399f-11c2-4d09-9103-f14d748f8432",
      "metadata": {
        "id": "45b6399f-11c2-4d09-9103-f14d748f8432"
      },
      "outputs": [],
      "source": [
        "# Problem 7"
      ]
    },
    {
      "cell_type": "code",
      "execution_count": null,
      "id": "e90d8d75-dccb-4dd3-afe2-02d58610e330",
      "metadata": {
        "id": "e90d8d75-dccb-4dd3-afe2-02d58610e330",
        "outputId": "d47da337-68b7-443e-cce6-4e77e182cfd6"
      },
      "outputs": [
        {
          "name": "stdout",
          "output_type": "stream",
          "text": [
            "(32, -8)\n"
          ]
        }
      ],
      "source": [
        "def calc(a, b):\n",
        "    return a+b, a-b\n",
        "print (calc(12, 20))"
      ]
    },
    {
      "cell_type": "code",
      "execution_count": null,
      "id": "ff5847b3-610a-4f9f-920b-3397e727eaa5",
      "metadata": {
        "id": "ff5847b3-610a-4f9f-920b-3397e727eaa5"
      },
      "outputs": [],
      "source": []
    },
    {
      "cell_type": "code",
      "execution_count": null,
      "id": "eae70c72-2711-49b5-9b2b-a4c1d0e06772",
      "metadata": {
        "id": "eae70c72-2711-49b5-9b2b-a4c1d0e06772"
      },
      "outputs": [],
      "source": []
    },
    {
      "cell_type": "code",
      "execution_count": null,
      "id": "d70ebf3f-65f4-4111-a437-7182432162b8",
      "metadata": {
        "id": "d70ebf3f-65f4-4111-a437-7182432162b8"
      },
      "outputs": [],
      "source": [
        "# Problem 8"
      ]
    },
    {
      "cell_type": "code",
      "execution_count": null,
      "id": "967bdf3f-c73b-402b-8542-cb5bef75090c",
      "metadata": {
        "id": "967bdf3f-c73b-402b-8542-cb5bef75090c",
        "outputId": "722504ba-235f-4dbb-d962-e87cef62165e"
      },
      "outputs": [
        {
          "name": "stdout",
          "output_type": "stream",
          "text": [
            "Lucas 26 Two Opit\n"
          ]
        }
      ],
      "source": [
        "def student_details(name, age, semester= 'Two', school='Opit',):\n",
        "     print(name , age, semester, school)\n",
        "\n",
        "student_details(\"Lucas\", 26)"
      ]
    },
    {
      "cell_type": "code",
      "execution_count": null,
      "id": "1d333bc2-872a-4e92-9f09-34cf0b910f97",
      "metadata": {
        "id": "1d333bc2-872a-4e92-9f09-34cf0b910f97"
      },
      "outputs": [],
      "source": []
    }
  ],
  "metadata": {
    "kernelspec": {
      "display_name": "Python 3 (ipykernel)",
      "language": "python",
      "name": "python3"
    },
    "language_info": {
      "codemirror_mode": {
        "name": "ipython",
        "version": 3
      },
      "file_extension": ".py",
      "mimetype": "text/x-python",
      "name": "python",
      "nbconvert_exporter": "python",
      "pygments_lexer": "ipython3",
      "version": "3.12.3"
    },
    "colab": {
      "provenance": []
    }
  },
  "nbformat": 4,
  "nbformat_minor": 5
}